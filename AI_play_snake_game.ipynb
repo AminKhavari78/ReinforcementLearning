{
  "nbformat": 4,
  "nbformat_minor": 0,
  "metadata": {
    "colab": {
      "provenance": [],
      "collapsed_sections": [
        "Ll1FJKQcIlmt",
        "zaOtyAurJGDR"
      ],
      "include_colab_link": true
    },
    "kernelspec": {
      "name": "python3",
      "display_name": "Python 3"
    }
  },
  "cells": [
    {
      "cell_type": "markdown",
      "metadata": {
        "id": "view-in-github",
        "colab_type": "text"
      },
      "source": [
        "<a href=\"https://colab.research.google.com/github/AminKhavari78/ReinforcementLearning/blob/main/AI_play_snake_game.ipynb\" target=\"_parent\"><img src=\"https://colab.research.google.com/assets/colab-badge.svg\" alt=\"Open In Colab\"/></a>"
      ]
    },
    {
      "cell_type": "markdown",
      "metadata": {
        "id": "Ll1FJKQcIlmt"
      },
      "source": [
        "#Install pygame and some basic Things"
      ]
    },
    {
      "cell_type": "code",
      "metadata": {
        "id": "trViUvbXAGlj",
        "colab": {
          "base_uri": "https://localhost:8080/"
        },
        "outputId": "84e27296-e020-4f33-ff43-5cf78c11b2bc"
      },
      "source": [
        "!pip install pygame"
      ],
      "execution_count": null,
      "outputs": [
        {
          "output_type": "stream",
          "name": "stdout",
          "text": [
            "Requirement already satisfied: pygame in /usr/local/lib/python3.10/dist-packages (2.5.2)\n"
          ]
        }
      ]
    },
    {
      "cell_type": "markdown",
      "metadata": {
        "id": "wWRYdkJzIqW3"
      },
      "source": [
        "##Dependencies"
      ]
    },
    {
      "cell_type": "code",
      "metadata": {
        "id": "7X42jJWlAuSl"
      },
      "source": [
        "import cv2\n",
        "from google.colab.patches import cv2_imshow\n",
        "from google.colab import output\n",
        "import time\n",
        "import os, sys"
      ],
      "execution_count": null,
      "outputs": []
    },
    {
      "cell_type": "markdown",
      "metadata": {
        "id": "jobbL8_pIuxP"
      },
      "source": [
        "##Fool system to think it has a video access"
      ]
    },
    {
      "cell_type": "code",
      "metadata": {
        "id": "bBd7TdlTAN9s"
      },
      "source": [
        "# set SDL to use the dummy NULL video driver,\n",
        "#   so it doesn't need a windowing system.\n",
        "os.environ[\"SDL_VIDEODRIVER\"] = \"dummy\""
      ],
      "execution_count": null,
      "outputs": []
    },
    {
      "cell_type": "markdown",
      "metadata": {
        "id": "lFqI32cMI2vq"
      },
      "source": [
        "##Simple Pygame example"
      ]
    },
    {
      "cell_type": "code",
      "metadata": {
        "id": "EMk8HL92ATLL",
        "colab": {
          "base_uri": "https://localhost:8080/",
          "height": 546
        },
        "outputId": "c634400b-921c-4d7d-eb3f-76055a31a1fc"
      },
      "source": [
        "import pygame\n",
        "\n",
        "pygame.init()\n",
        "screen = pygame.display.set_mode((400, 300))\n",
        "done = False\n",
        "is_blue = True\n",
        "x = 30\n",
        "y = 30\n",
        "\n",
        "while not done:\n",
        "        for event in pygame.event.get():\n",
        "                if event.type == pygame.QUIT:\n",
        "                        done = True\n",
        "\n",
        "        color = (255, 100, 0)\n",
        "        pygame.draw.rect(screen, color, pygame.Rect(x, y, 100, 60))\n",
        "\n",
        "        pygame.display.flip()\n",
        "\n",
        "        #convert image so it can be displayed in OpenCV\n",
        "        view = pygame.surfarray.array3d(screen)\n",
        "\n",
        "        #  convert from (width, height, channel) to (height, width, channel)\n",
        "        view = view.transpose([1, 0, 2])\n",
        "\n",
        "        #  convert from rgb to bgr\n",
        "        img_bgr = cv2.cvtColor(view, cv2.COLOR_RGB2BGR)\n",
        "\n",
        "        #Display image, clear cell every 0.5 seconds\n",
        "        cv2_imshow(img_bgr)\n",
        "        time.sleep(0.5)\n",
        "        output.clear()\n",
        "\n",
        "\n"
      ],
      "execution_count": null,
      "outputs": [
        {
          "output_type": "display_data",
          "data": {
            "text/plain": [
              "<PIL.Image.Image image mode=RGB size=400x300>"
            ],
            "image/png": "[encoded data removed]"
          },
          "metadata": {}
        },
        {
          "output_type": "error",
          "ename": "KeyboardInterrupt",
          "evalue": "ignored",
          "traceback": [
            "\u001b[0;31m---------------------------------------------------------------------------\u001b[0m",
            "\u001b[0;31mKeyboardInterrupt\u001b[0m                         Traceback (most recent call last)",
            "\u001b[0;32m<ipython-input-4-8023f35594dc>\u001b[0m in \u001b[0;36m<cell line: 10>\u001b[0;34m()\u001b[0m\n\u001b[1;32m     29\u001b[0m         \u001b[0;31m#Display image, clear cell every 0.5 seconds\u001b[0m\u001b[0;34m\u001b[0m\u001b[0;34m\u001b[0m\u001b[0m\n\u001b[1;32m     30\u001b[0m         \u001b[0mcv2_imshow\u001b[0m\u001b[0;34m(\u001b[0m\u001b[0mimg_bgr\u001b[0m\u001b[0;34m)\u001b[0m\u001b[0;34m\u001b[0m\u001b[0;34m\u001b[0m\u001b[0m\n\u001b[0;32m---> 31\u001b[0;31m         \u001b[0mtime\u001b[0m\u001b[0;34m.\u001b[0m\u001b[0msleep\u001b[0m\u001b[0;34m(\u001b[0m\u001b[0;36m0.5\u001b[0m\u001b[0;34m)\u001b[0m\u001b[0;34m\u001b[0m\u001b[0;34m\u001b[0m\u001b[0m\n\u001b[0m\u001b[1;32m     32\u001b[0m         \u001b[0moutput\u001b[0m\u001b[0;34m.\u001b[0m\u001b[0mclear\u001b[0m\u001b[0;34m(\u001b[0m\u001b[0;34m)\u001b[0m\u001b[0;34m\u001b[0m\u001b[0;34m\u001b[0m\u001b[0m\n\u001b[1;32m     33\u001b[0m \u001b[0;34m\u001b[0m\u001b[0m\n",
            "\u001b[0;31mKeyboardInterrupt\u001b[0m: "
          ]
        }
      ]
    },
    {
      "cell_type": "markdown",
      "metadata": {
        "id": "zaOtyAurJGDR"
      },
      "source": [
        "#Teaching an AI to Play the Snake Game Using Reinforcement Learning!"
      ]
    },
    {
      "cell_type": "code",
      "source": [
        "import pygame\n",
        "import random\n",
        "from enum import Enum\n",
        "from collections import namedtuple\n",
        "import numpy as np\n",
        "\n",
        "pygame.init()\n",
        "font = pygame.font.SysFont('arial', 25)\n",
        "\n",
        "class Direction(Enum):\n",
        "    RIGHT = 1\n",
        "    LEFT = 2\n",
        "    UP = 3\n",
        "    DOWN = 4\n",
        "\n",
        "Point = namedtuple('Point', 'x, y')\n",
        "\n",
        "WHITE = (255, 255, 255)\n",
        "RED = (200, 0, 0)\n",
        "BLUE1 = (0, 0, 255)\n",
        "BLUE2 = (0, 100, 255)\n",
        "BLACK = (0, 0, 0)\n"
      ],
      "metadata": {
        "id": "y51W5YWW1MeO"
      },
      "execution_count": null,
      "outputs": []
    },
    {
      "cell_type": "code",
      "source": [
        "BLOCK_SIZE = 20\n",
        "SPEED = 80 #ajust the speed of the snake to your liking\n",
        "\n",
        "class SnakeGameAI():\n",
        "\n",
        "\n",
        "  def _update_ui(self):\n",
        "          self.display.fill(BLACK)\n",
        "          for pt in self.snake:\n",
        "              pygame.draw.rect(self.display, BLUE1, pygame.Rect(pt.x, pt.y, BLOCK_SIZE, BLOCK_SIZE))\n",
        "              pygame.draw.rect(self.display, BLUE2, pygame.Rect(pt.x + 4, pt.y + 4, 12, 12))\n",
        "\n",
        "          pygame.draw.rect(self.display, RED, pygame.Rect(self.food.x, self.food.y, BLOCK_SIZE, BLOCK_SIZE))\n",
        "\n",
        "          text = font.render(\"Score: \" + str(self.score), True, WHITE)\n",
        "          self.display.blit(text, [0, 0])\n",
        "          pygame.display.flip()\n",
        "\n",
        "          \"\"\"\n",
        "          #convert image so it can be displayed in OpenCV\n",
        "          view = pygame.surfarray.array3d(self.display)\n",
        "\n",
        "          #  convert from (width, height, channel) to (height, width, channel)\n",
        "          view = view.transpose([1, 0, 2])\n",
        "\n",
        "          #  convert from rgb to bgr\n",
        "          img_bgr = cv2.cvtColor(view, cv2.COLOR_RGB2BGR)\n",
        "\n",
        "          #Display image, clear cell every 0.5 seconds\n",
        "          cv2_imshow(img_bgr)\n",
        "          time.sleep(0.5)\n",
        "          output.clear()\n",
        "          \"\"\"\n",
        "\n",
        "  def __init__(self, w=640, h=480): #dimensions\n",
        "          self.w = w\n",
        "          self.h = h\n",
        "          self.display = pygame.display.set_mode((self.w, self.h))\n",
        "          pygame.display.set_caption('Snake')\n",
        "          self.clock = pygame.time.Clock()\n",
        "          self.reset()\n",
        "\n",
        "  def reset(self): #game state\n",
        "          self.direction = Direction.RIGHT\n",
        "          self.head = Point(self.w / 2, self.h / 2)\n",
        "          self.snake = [self.head,\n",
        "                        Point(self.head.x - BLOCK_SIZE, self.head.y),\n",
        "                        Point(self.head.x - (2 * BLOCK_SIZE), self.head.y)]\n",
        "          self.score = 0\n",
        "          self.food = None\n",
        "          self._place_food()\n",
        "          self.frame_iteration = 0\n",
        "\n",
        "  def _place_food(self):\n",
        "    x = random.randint(0, (self.w - BLOCK_SIZE) // BLOCK_SIZE) * BLOCK_SIZE\n",
        "    y = random.randint(0, (self.h - BLOCK_SIZE) // BLOCK_SIZE) * BLOCK_SIZE\n",
        "    self.food = Point(x, y)\n",
        "    if self.food in self.snake:\n",
        "          self._place_food()\n",
        "\n",
        "  def is_collision(self, pt=None):\n",
        "      if pt is None: #pt is the head of the snake\n",
        "          pt = self.head\n",
        "      if pt.x > self.w - BLOCK_SIZE or pt.x < 0 or pt.y > self.h - BLOCK_SIZE or pt.y < 0:\n",
        "          return True #if snake hits the side\n",
        "      if pt in self.snake[1:]:\n",
        "          return True  #if snake hits itself\n",
        "      return False\n",
        "\n",
        "\n",
        "  def play_step(self, action):\n",
        "          self.frame_iteration += 1\n",
        "          for event in pygame.event.get():\n",
        "              if event.type == pygame.QUIT:\n",
        "                  pygame.quit()\n",
        "                  quit()\n",
        "          self._move(action)\n",
        "          self.snake.insert(0, self.head)\n",
        "          reward = 0\n",
        "          game_over = False\n",
        "          if self.is_collision() or self.frame_iteration > 100 * len(self.snake):\n",
        "              game_over = True\n",
        "              reward = -10\n",
        "              return reward, game_over, self.score\n",
        "          if self.head == self.food:\n",
        "              self.score += 1\n",
        "              reward = 10\n",
        "              self._place_food()\n",
        "          else:\n",
        "              self.snake.pop()\n",
        "          self._update_ui()\n",
        "          self.clock.tick(SPEED)\n",
        "          return reward, game_over, self.score\n",
        "\n",
        "  def _move(self, action):\n",
        "\n",
        "          clock_wise = [Direction.RIGHT, Direction.DOWN, Direction.LEFT, Direction.UP]\n",
        "          idx = clock_wise.index(self.direction)\n",
        "          if np.array_equal(action, [1, 0, 0]): # straight\n",
        "              new_dir = clock_wise[idx]\n",
        "          elif np.array_equal(action, [0, 1, 0]): #right turn\n",
        "              next_idx = (idx + 1) % 4\n",
        "              new_dir = clock_wise[next_idx]\n",
        "          else:  #[0,0,1] aka left turn\n",
        "              next_idx = (idx - 1) % 4\n",
        "              new_dir = clock_wise[next_idx]\n",
        "          self.direction = new_dir\n",
        "\n",
        "          x = self.head.x\n",
        "          y = self.head.y\n",
        "          if self.direction == Direction.RIGHT:\n",
        "              x += BLOCK_SIZE\n",
        "          elif self.direction == Direction.LEFT:\n",
        "              x -= BLOCK_SIZE\n",
        "          elif self.direction == Direction.DOWN:\n",
        "              y += BLOCK_SIZE\n",
        "          elif self.direction == Direction.UP:\n",
        "              y -= BLOCK_SIZE\n",
        "\n",
        "          self.head = Point(x, y)\n",
        "\n"
      ],
      "metadata": {
        "id": "dKOSGkLL3Vos"
      },
      "execution_count": null,
      "outputs": []
    },
    {
      "cell_type": "code",
      "source": [
        "import torch\n",
        "import torch.nn as nn\n",
        "import torch.optim as optim\n",
        "import torch.nn.functional as F\n",
        "import os"
      ],
      "metadata": {
        "id": "5iCVJonm8V6-"
      },
      "execution_count": null,
      "outputs": []
    },
    {
      "cell_type": "code",
      "source": [
        "class Linear_QNet(nn.Module):\n",
        "    def __init__(self, input_size, hidden_size, output_size): #building the input, hidden and output layer\n",
        "        super().__init__()\n",
        "        self.linear1 = nn.Linear(input_size, hidden_size)\n",
        "        self.linear2 = nn.Linear(hidden_size, output_size)\n",
        "\n",
        "    def forward(self, x): #this is a feed-forward neural net\n",
        "        x = F.relu(self.linear1(x))\n",
        "        x = self.linear2(x)\n",
        "        return x\n",
        "\n",
        "    def save(self, file_name='model.pth'): #saving the model\n",
        "        model_folder_path = './model'\n",
        "        if not os.path.exists(model_folder_path):\n",
        "            os.makedirs(model_folder_path)\n",
        "\n",
        "        file_name = os.path.join(model_folder_path, file_name)\n",
        "        torch.save(self.state_dict(), file_name)"
      ],
      "metadata": {
        "id": "EtVd-F928eH7"
      },
      "execution_count": null,
      "outputs": []
    },
    {
      "cell_type": "code",
      "source": [
        "class QTrainer:\n",
        "    def __init__(self, model, lr, gamma): #initializing\n",
        "        self.lr = lr\n",
        "        self.gamma = gamma\n",
        "        self.model = model\n",
        "        self.optimizer = optim.Adam(model.parameters(), lr=self.lr) #optimizer\n",
        "        self.criterion = nn.MSELoss() #loss function\n",
        "\n",
        "    def train_step(self, state, action, reward, next_state, done): #trainer\n",
        "        state = torch.tensor(state, dtype=torch.float)\n",
        "        next_state = torch.tensor(next_state, dtype=torch.float)\n",
        "        action = torch.tensor(action, dtype=torch.long)\n",
        "        reward = torch.tensor(reward, dtype=torch.float)\n",
        "\n",
        "        if len(state.shape) == 1: #if there 1 dimension\n",
        "            state = torch.unsqueeze(state, 0)\n",
        "            next_state = torch.unsqueeze(next_state, 0)\n",
        "            action = torch.unsqueeze(action, 0)\n",
        "            reward = torch.unsqueeze(reward, 0)\n",
        "            done = (done,)\n",
        "        pred = self.model(state) #using the Q=model predict equation above\n",
        "\n",
        "        target = pred.clone() #using Qnew = r+y(next predicted Q) as mentionned above\n",
        "        for idx in range(len(done)):\n",
        "            Q_new = reward[idx]\n",
        "            if not done[idx]:\n",
        "                Q_new = reward[idx] + self.gamma * torch.max(self.model(next_state[idx]))\n",
        "            target[idx][torch.argmax(action[idx]).item()] = Q_new\n",
        "\n",
        "        self.optimizer.zero_grad() #calculating loss function\n",
        "        loss = self.criterion(target, pred)\n",
        "        loss.backward()\n",
        "        self.optimizer.step()"
      ],
      "metadata": {
        "id": "88wM5SEd8kLM"
      },
      "execution_count": null,
      "outputs": []
    },
    {
      "cell_type": "code",
      "source": [
        "import matplotlib.pyplot as plt\n",
        "from IPython import display\n",
        "plt.ion()\n",
        "def plot(scores, mean_scores):\n",
        "    display.clear_output(wait=True)\n",
        "    display.display(plt.gcf())\n",
        "    plt.clf()\n",
        "    plt.title('Training...')\n",
        "    plt.xlabel('Number of Games')\n",
        "    plt.ylabel('Score')\n",
        "    plt.plot(scores)\n",
        "    plt.plot(mean_scores)\n",
        "    plt.ylim(ymin=0)\n",
        "    plt.text(len(scores)-1, scores[-1], str(scores[-1]))\n",
        "    plt.text(len(mean_scores)-1, mean_scores[-1], str(mean_scores[-1]))\n",
        "    plt.show(block=False)\n",
        "    plt.pause(.1)"
      ],
      "metadata": {
        "id": "-A5JS03o8upT"
      },
      "execution_count": null,
      "outputs": []
    },
    {
      "cell_type": "code",
      "source": [
        "import torch #pytorch\n",
        "import random\n",
        "import numpy as np #numpy\n",
        "from collections import deque #data structure to store memory\n",
        "#from game import SnakeGameAI, Direction, Point #importing the game created in step 1\n",
        "#from model import Linear_QNet, QTrainer #importing the neural net from step 2\n",
        "#from helper import plot #importing the plotter from step 2\n",
        "\n",
        "MAX_MEMORY = 100_000\n",
        "BATCH_SIZE = 1000\n",
        "LR = 0.001 #learning rate"
      ],
      "metadata": {
        "id": "WUh87I6u8wK0"
      },
      "execution_count": null,
      "outputs": []
    },
    {
      "cell_type": "code",
      "source": [
        "class Agent():\n",
        "\n",
        "  def __init__(self):\n",
        "          self.n_games = 0\n",
        "          self.epsilon = 0  # randomness\n",
        "          self.gamma = 0.9  # discount rate\n",
        "          self.memory = deque(maxlen=MAX_MEMORY)\n",
        "          self.model = Linear_QNet(11, 256, 3) #input size, hidden size, output size\n",
        "          self.trainer = QTrainer(self.model, lr=LR, gamma=self.gamma)\n",
        "\n",
        "  def get_state(self, game):\n",
        "        head = game.snake[0]\n",
        "        point_l = Point(head.x - 20, head.y)\n",
        "        point_r = Point(head.x + 20, head.y)\n",
        "        point_u = Point(head.x, head.y - 20)\n",
        "        point_d = Point(head.x, head.y + 20)\n",
        "\n",
        "        dir_l = game.direction == Direction.LEFT\n",
        "        dir_r = game.direction == Direction.RIGHT\n",
        "        dir_u = game.direction == Direction.UP\n",
        "        dir_d = game.direction == Direction.DOWN\n",
        "\n",
        "        state = [\n",
        "            (dir_r and game.is_collision(point_r)) or # Danger straight\n",
        "            (dir_l and game.is_collision(point_l)) or\n",
        "            (dir_u and game.is_collision(point_u)) or\n",
        "            (dir_d and game.is_collision(point_d)),\n",
        "\n",
        "            (dir_u and game.is_collision(point_r)) or # Danger right\n",
        "            (dir_d and game.is_collision(point_l)) or\n",
        "            (dir_l and game.is_collision(point_u)) or\n",
        "            (dir_r and game.is_collision(point_d)),\n",
        "\n",
        "            (dir_d and game.is_collision(point_r)) or # Danger left\n",
        "            (dir_u and game.is_collision(point_l)) or\n",
        "            (dir_r and game.is_collision(point_u)) or\n",
        "            (dir_l and game.is_collision(point_d)),\n",
        "\n",
        "            dir_l, #direction\n",
        "            dir_r,\n",
        "            dir_u,\n",
        "            dir_d,\n",
        "\n",
        "            game.food.x < game.head.x,  # food left\n",
        "            game.food.x > game.head.x,  # food right\n",
        "            game.food.y < game.head.y,  # food up\n",
        "            game.food.y > game.head.y  # food down\n",
        "        ]\n",
        "        return np.array(state, dtype=int)\n",
        "\n",
        "\n",
        "  def get_action(self, state):\n",
        "          self.epsilon = 80 - self.n_games\n",
        "          final_move = [0, 0, 0]\n",
        "          if random.randint(0, 200) < self.epsilon:\n",
        "              move = random.randint(0, 2)\n",
        "              final_move[move] = 1\n",
        "          else:\n",
        "              state0 = torch.tensor(state, dtype=torch.float)\n",
        "              prediction = self.model(state0)\n",
        "              move = torch.argmax(prediction).item()\n",
        "              final_move[move] = 1\n",
        "\n",
        "          return final_move\n",
        "\n",
        "\n",
        "  def remember(self, state, action, reward, next_state, done):\n",
        "          self.memory.append((state, action, reward, next_state, done))  # popleft if MAX_MEMORY is reached\n",
        "\n",
        "  def train_long_memory(self):\n",
        "          if len(self.memory) > BATCH_SIZE:\n",
        "              mini_sample = random.sample(self.memory, BATCH_SIZE)  # list of tuples\n",
        "          else:\n",
        "              mini_sample = self.memory\n",
        "\n",
        "          states, actions, rewards, next_states, dones = zip(*mini_sample)\n",
        "          self.trainer.train_step(states, actions, rewards, next_states, dones)\n",
        "\n",
        "  def train_short_memory(self, state, action, reward, next_state, done):\n",
        "          self.trainer.train_step(state, action, reward, next_state, done)"
      ],
      "metadata": {
        "id": "31FONYv480Sq"
      },
      "execution_count": null,
      "outputs": []
    },
    {
      "cell_type": "code",
      "source": [
        "def train():\n",
        "    plot_scores = []\n",
        "    plot_mean_scores = []\n",
        "    total_score = 0\n",
        "    record = 0\n",
        "    agent = Agent()\n",
        "    game = SnakeGameAI()\n",
        "    counter = 0\n",
        "    while counter < 500:\n",
        "        state_old = agent.get_state(game)\n",
        "        final_move = agent.get_action(state_old)\n",
        "        reward, done, score = game.play_step(final_move)\n",
        "        state_new = agent.get_state(game)\n",
        "        agent.train_short_memory(state_old, final_move, reward, state_new, done)\n",
        "        agent.remember(state_old, final_move, reward, state_new, done)\n",
        "\n",
        "\n",
        "        if done:\n",
        "            game.reset()\n",
        "            agent.n_games += 1\n",
        "            counter += 1\n",
        "            agent.train_long_memory()\n",
        "            if score > record:\n",
        "                record = score\n",
        "                agent.model.save()\n",
        "\n",
        "            print('Game', agent.n_games, 'Score', score, 'Record:', record)\n",
        "\n",
        "            plot_scores.append(score)\n",
        "            total_score += score\n",
        "            mean_score = total_score / agent.n_games\n",
        "            plot_mean_scores.append(mean_score)\n",
        "            plot(plot_scores, plot_mean_scores)\n",
        "\n"
      ],
      "metadata": {
        "id": "3R-qFb8_9wDY"
      },
      "execution_count": null,
      "outputs": []
    },
    {
      "cell_type": "code",
      "source": [
        "train()"
      ],
      "metadata": {
        "id": "_bf4xe9h-FOb",
        "outputId": "f07f6b0d-e204-4ef6-fc38-5c4378af0e56",
        "colab": {
          "base_uri": "https://localhost:8080/",
          "height": 489
        }
      },
      "execution_count": null,
      "outputs": [
        {
          "output_type": "display_data",
          "data": {
            "text/plain": [
              "<Figure size 640x480 with 0 Axes>"
            ]
          },
          "metadata": {}
        },
        {
          "output_type": "display_data",
          "data": {
            "text/plain": [
              "<Figure size 640x480 with 1 Axes>"
            ],
            "image/png": "[encoded data removed]"
          },
          "metadata": {}
        }
      ]
    }
  ]
}